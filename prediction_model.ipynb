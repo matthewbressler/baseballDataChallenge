{
 "cells": [
  {
   "cell_type": "code",
   "execution_count": 1,
   "metadata": {},
   "outputs": [],
   "source": [
    "import pandas as pd\n",
    "from sklearn.model_selection import train_test_split\n",
    "from sklearn.metrics import mean_squared_error\n",
    "from sklearn.linear_model import LinearRegression\n",
    "from xgboost import XGBRegressor"
   ]
  },
  {
   "cell_type": "code",
   "execution_count": 2,
   "metadata": {},
   "outputs": [],
   "source": [
    "df = pd.read_csv(\"Data/pitch_swing.csv\")"
   ]
  },
  {
   "cell_type": "code",
   "execution_count": 3,
   "metadata": {},
   "outputs": [],
   "source": [
    "# Only take players with more than 100 plate appearances\n",
    "player_plate_appearance= df.groupby('player_name').size().reset_index(name='plate_appearances')\n",
    "valid_players = player_plate_appearance[player_plate_appearance['plate_appearances'] > 100]['player_name']"
   ]
  },
  {
   "cell_type": "code",
   "execution_count": 4,
   "metadata": {},
   "outputs": [],
   "source": [
    "player_data = df[df['player_name'].isin(valid_players)].groupby('player_name').agg(\n",
    "    avg_swing_length=('swing_length', 'mean'),\n",
    "    std_swing_length=('swing_length', 'std'),\n",
    "    avg_bat_speed=('bat_speed', 'mean'),\n",
    "    std_bat_speed=('bat_speed', 'std'),\n",
    "    woba_value=('woba_value', 'mean')\n",
    ").reset_index()"
   ]
  },
  {
   "cell_type": "code",
   "execution_count": 5,
   "metadata": {},
   "outputs": [],
   "source": [
    "# coefficient of variance is standard deviation divided by mean\n",
    "player_data['coeff_var_swing_length'] = player_data['std_swing_length'] / player_data['avg_swing_length']\n",
    "player_data['coeff_var_bat_speed'] = player_data['std_bat_speed'] / player_data['avg_bat_speed']"
   ]
  },
  {
   "cell_type": "markdown",
   "metadata": {},
   "source": []
  },
  {
   "cell_type": "code",
   "execution_count": 6,
   "metadata": {},
   "outputs": [],
   "source": [
    "# Training features and output feature\n",
    "X = player_data[['avg_swing_length', 'coeff_var_swing_length', 'avg_bat_speed', 'coeff_var_bat_speed']]\n",
    "Y = player_data[['woba_value']]"
   ]
  },
  {
   "cell_type": "code",
   "execution_count": 7,
   "metadata": {},
   "outputs": [],
   "source": [
    "#Split into 80/20 training testing\n",
    "X_train, X_test, Y_train, Y_test = train_test_split(X, Y, test_size=0.2, random_state=42)"
   ]
  },
  {
   "cell_type": "code",
   "execution_count": 8,
   "metadata": {},
   "outputs": [
    {
     "name": "stdout",
     "output_type": "stream",
     "text": [
      "Training Error: 0.0030460752702249076\n",
      "Test Error: 0.0028202268525133064\n"
     ]
    }
   ],
   "source": [
    "# Linear Regression\n",
    "model = LinearRegression()\n",
    "model.fit(X_train, Y_train)\n",
    "\n",
    "Y_pred_train = model.predict(X_train)\n",
    "Y_pred_test = model.predict(X_test)\n",
    "\n",
    "training_error = mean_squared_error(Y_train, Y_pred_train)\n",
    "test_error = mean_squared_error(Y_test, Y_pred_test)\n",
    "\n",
    "print(f\"Training Error: {training_error}\")\n",
    "print(f\"Test Error: {test_error}\")\n"
   ]
  },
  {
   "cell_type": "code",
   "execution_count": null,
   "metadata": {},
   "outputs": [
    {
     "name": "stdout",
     "output_type": "stream",
     "text": [
      "Training Error: 2.270550339744659e-06\n",
      "Test Error: 0.004332368262112141\n"
     ]
    }
   ],
   "source": [
    "# Using XGBoost\n",
    "model = XGBRegressor(random_state = 42)\n",
    "model.fit(X_train, Y_train)\n",
    "\n",
    "Y_pred_train = model.predict(X_train)\n",
    "Y_pred_test = model.predict(X_test)\n",
    "\n",
    "training_error = mean_squared_error(Y_train, Y_pred_train)\n",
    "test_error = mean_squared_error(Y_test, Y_pred_test)\n",
    "\n",
    "print(f\"Training Error: {training_error}\")\n",
    "print(f\"Test Error: {test_error}\")\n"
   ]
  },
  {
   "cell_type": "code",
   "execution_count": null,
   "metadata": {},
   "outputs": [],
   "source": []
  }
 ],
 "metadata": {
  "kernelspec": {
   "display_name": "Python 3",
   "language": "python",
   "name": "python3"
  },
  "language_info": {
   "codemirror_mode": {
    "name": "ipython",
    "version": 3
   },
   "file_extension": ".py",
   "mimetype": "text/x-python",
   "name": "python",
   "nbconvert_exporter": "python",
   "pygments_lexer": "ipython3",
   "version": "3.12.1"
  }
 },
 "nbformat": 4,
 "nbformat_minor": 2
}
